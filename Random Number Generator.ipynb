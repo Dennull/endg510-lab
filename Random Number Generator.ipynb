{
 "cells": [
  {
   "cell_type": "code",
   "execution_count": null,
   "metadata": {},
   "outputs": [],
   "source": [
    "import pandas as pd # In case of error, install pandas using: pip install pandas\n",
    "\n",
    "from random import randint\n",
    "# Read the CSV file into a DataFrame\n",
    "df = pd.read_csv('data.csv')\n",
    "\n",
    "for x in range(700):\n",
    "    new_data = {'Temp': randint(0, 100), 'Humd': randint(0, 100), 'Label': 0}\n",
    "    df = df._append(new_data, ignore_index=True)\n",
    "    \n",
    "    \n",
    "# Step 3: Save the DataFrame to a new CSV file    \n",
    "df.to_csv(\"data.csv\", index=False)"
   ]
  }
 ],
 "metadata": {
  "kernelspec": {
   "display_name": "base",
   "language": "python",
   "name": "python3"
  },
  "language_info": {
   "name": "python",
   "version": "3.11.5"
  }
 },
 "nbformat": 4,
 "nbformat_minor": 2
}
