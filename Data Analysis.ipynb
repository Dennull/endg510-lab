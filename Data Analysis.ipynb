{
 "cells": [
  {
   "cell_type": "code",
   "execution_count": 16,
   "metadata": {
    "colab": {
     "base_uri": "https://localhost:8080/",
     "height": 390
    },
    "executionInfo": {
     "elapsed": 1007,
     "status": "error",
     "timestamp": 1699065197320,
     "user": {
      "displayName": "Dennis Lieu",
      "userId": "08259720216734899159"
     },
     "user_tz": 360
    },
    "id": "c4qiyNCGJ-KY",
    "outputId": "dc083a1a-d29f-4ec9-f5a6-c25c75ce6b92",
    "scrolled": true
   },
   "outputs": [
    {
     "name": "stdout",
     "output_type": "stream",
     "text": [
      "   Temp  Humd  Label\n",
      "0    28    38      1\n",
      "1    27    33      1\n",
      "2    28    71      1\n",
      "3    28    72      1\n",
      "4    28    72      1\n",
      "Missing Values:\n",
      "Temp     0\n",
      "Humd     0\n",
      "Label    0\n",
      "dtype: int64\n",
      "KNearestNeighbors Accuracy: 0.9221556886227545\n",
      "LogisticRegression Accuracy: 0.8323353293413174\n",
      "RandomForest Accuracy: 0.9401197604790419\n"
     ]
    },
    {
     "data": {
      "text/plain": [
       "Text(0.5, 1.0, 'Confusion Matrix for Random Forest')"
      ]
     },
     "execution_count": 16,
     "metadata": {},
     "output_type": "execute_result"
    },
    {
     "data": {
      "image/png": "[encoded data removed]",
      "text/plain": [
       "<Figure size 1500x500 with 3 Axes>"
      ]
     },
     "metadata": {},
     "output_type": "display_data"
    }
   ],
   "source": [
    "# Load class\n",
    "import numpy as np\n",
    "import pandas as pd # In case it's not installed then install using conda create -c conda-forge -n name_of_my_env python pandas\n",
    "# More installations information can be found: https://pandas.pydata.org/docs/getting_started/install.html\n",
    "import os\n",
    "# Load sklearn module for creating and evaluating ML models. In case sklearn isn't installed, follow this link https://scikit-learn.org/stable/install.html for further details on the installation process.\n",
    "\n",
    "from sklearn.neighbors import KNeighborsClassifier # Load your classifier. In this code, I have used KNN. You can choose other algorithms. You have to use at least 3 to complete this.\n",
    "from sklearn.preprocessing import StandardScaler # Module for perform scaling\n",
    "\n",
    "from sklearn.model_selection import train_test_split # Module for splitting datatset\n",
    "from sklearn import metrics # Module for evaluating performance\n",
    "\n",
    "# Load your data\n",
    "df = pd.read_csv(\"data.csv\") # Change the name accordingly\n",
    "print(df.head()) # Prints top 5 rows from the datatset to check data is load or not\n",
    "\n",
    "# Check for missing values\n",
    "missing_values = df.isnull().sum()\n",
    "print(\"Missing Values:\")\n",
    "print(missing_values)\n",
    "\n",
    "# Remove duplicatesd\n",
    "df = df.drop_duplicates()\n",
    "\n",
    "# Prepare features\n",
    "x = df.drop(['Label'],axis=1) # Remove class or label\n",
    "y = df['Label'] # Load label\n",
    "\n",
    "x_train,x_test,y_train,y_test = train_test_split(x,y,test_size=.2) # Split datatset. Here ratio is 80:20. Change accordingly.\n",
    "\n",
    "# Scale the data using standardization\n",
    "scaler = StandardScaler()\n",
    "x_train = scaler.fit_transform(x_train) # Scale training set\n",
    "x_test = scaler.transform(x_test) # Scale test set\n",
    "\n",
    "KNN = KNeighborsClassifier(n_neighbors=3) # KNN classifier for 3 neighbours\n",
    "KNN = z.fit(x_train,y_train) # Start training\n",
    "KNN_preds = KNN.predict(x_test) # Performance in the test set\n",
    "KNN_acc = metrics.accuracy_score(y_test, KNN_preds)\n",
    "print(\"KNearestNeighbors Accuracy:\", KNN_acc)\n",
    "\n",
    "from sklearn.linear_model import LogisticRegression\n",
    "\n",
    "log_reg = LogisticRegression()\n",
    "log_reg.fit(x_train, y_train)\n",
    "log_reg_preds = log_reg.predict(x_test)\n",
    "log_reg_acc = metrics.accuracy_score(y_test, log_reg_preds)\n",
    "print(\"LogisticRegression Accuracy:\", log_reg_acc)\n",
    "\n",
    "from sklearn.ensemble import RandomForestClassifier\n",
    "\n",
    "rf = RandomForestClassifier()\n",
    "rf.fit(x_train, y_train)\n",
    "rf_preds = rf.predict(x_test)\n",
    "rf_acc = metrics.accuracy_score(y_test, rf_preds)\n",
    "print(\"RandomForest Accuracy:\", rf_acc)\n",
    "\n",
    "# Library for save and load scikit-learn models\n",
    "import pickle\n",
    "# File name, recommending *.pickle as a file extension\n",
    "filename1 = \"modelGaussianNB.pickle\"\n",
    "filename2 = \"modelLogisticRegression.pickle\"\n",
    "filename3 = \"modelRandomForest.pickle\"\n",
    "# Save model\n",
    "pickle.dump(KNN, open(filename1, \"wb\"))\n",
    "pickle.dump(log_reg, open(filename2, \"wb\"))\n",
    "pickle.dump(rf, open(filename3, \"wb\"))\n",
    "\n",
    "# PLotting some confusion matricies to see performance\n",
    "import seaborn as sns\n",
    "import matplotlib.pyplot as plt\n",
    "KNN_cm = metrics.confusion_matrix(y_test, KNN_preds)\n",
    "log_reg_cm = metrics.confusion_matrix(y_test, log_reg_preds)\n",
    "rf_cm = metrics.confusion_matrix(y_test, rf_preds)\n",
    "\n",
    "fig, axes = plt.subplots(1, 3, figsize=(15, 5))\n",
    "\n",
    "sns.heatmap(KNN_cm, annot=True, fmt=\"d\", cmap=\"Blues\", cbar=False, ax=axes[0])\n",
    "axes[0].set_xlabel(\"Predicted\")\n",
    "axes[0].set_ylabel(\"Actual\")\n",
    "axes[0].set_title(\"Confusion Matrix for KNearestNeighbors\")\n",
    "\n",
    "sns.heatmap(log_reg_cm, annot=True, fmt=\"d\", cmap=\"Blues\", cbar=False, ax=axes[1])\n",
    "axes[1].set_xlabel(\"Predicted\")\n",
    "axes[1].set_ylabel(\"Actual\")\n",
    "axes[1].set_title(\"Confusion Matrix for Logistic Regression\")\n",
    "\n",
    "sns.heatmap(rf_cm, annot=True, fmt=\"d\", cmap=\"Blues\", cbar=False, ax=axes[2])\n",
    "axes[2].set_xlabel(\"Predicted\")\n",
    "axes[2].set_ylabel(\"Actual\")\n",
    "axes[2].set_title(\"Confusion Matrix for Random Forest\")"
   ]
  },
  {
   "cell_type": "code",
   "execution_count": null,
   "metadata": {},
   "outputs": [],
   "source": []
  }
 ],
 "metadata": {
  "colab": {
   "provenance": []
  },
  "kernelspec": {
   "display_name": "Python 3 (ipykernel)",
   "language": "python",
   "name": "python3"
  },
  "language_info": {
   "codemirror_mode": {
    "name": "ipython",
    "version": 3
   },
   "file_extension": ".py",
   "mimetype": "text/x-python",
   "name": "python",
   "nbconvert_exporter": "python",
   "pygments_lexer": "ipython3",
   "version": "3.11.5"
  }
 },
 "nbformat": 4,
 "nbformat_minor": 1
}
